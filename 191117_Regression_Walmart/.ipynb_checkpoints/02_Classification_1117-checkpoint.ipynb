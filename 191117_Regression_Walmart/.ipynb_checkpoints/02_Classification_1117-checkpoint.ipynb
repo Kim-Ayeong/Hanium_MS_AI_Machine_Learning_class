{
 "cells": [
  {
   "cell_type": "markdown",
   "metadata": {},
   "source": [
    "# 2019.11.17. 머신러닝 Classification with python3.6"
   ]
  },
  {
   "cell_type": "code",
   "execution_count": 1,
   "metadata": {},
   "outputs": [
    {
     "name": "stdout",
     "output_type": "stream",
     "text": [
      "Requirement already up-to-date: pandas==0.24.0 in /home/nbuser/anaconda3_501/lib/python3.6/site-packages (0.24.0)\n",
      "Requirement already satisfied, skipping upgrade: pytz>=2011k in /home/nbuser/anaconda3_501/lib/python3.6/site-packages (from pandas==0.24.0) (2019.3)\n",
      "Requirement already satisfied, skipping upgrade: numpy>=1.12.0 in /home/nbuser/anaconda3_501/lib/python3.6/site-packages (from pandas==0.24.0) (1.16.2)\n",
      "Requirement already satisfied, skipping upgrade: python-dateutil>=2.5.0 in /home/nbuser/anaconda3_501/lib/python3.6/site-packages (from pandas==0.24.0) (2.8.1)\n",
      "Requirement already satisfied, skipping upgrade: six>=1.5 in /home/nbuser/anaconda3_501/lib/python3.6/site-packages (from python-dateutil>=2.5.0->pandas==0.24.0) (1.11.0)\n"
     ]
    }
   ],
   "source": [
    "!pip install --upgrade pandas==0.24.0"
   ]
  },
  {
   "cell_type": "markdown",
   "metadata": {},
   "source": [
    "## 0. Package 가져오기"
   ]
  },
  {
   "cell_type": "code",
   "execution_count": 2,
   "metadata": {},
   "outputs": [
    {
     "name": "stdout",
     "output_type": "stream",
     "text": [
      "0.24.0\n",
      "1.16.2\n"
     ]
    }
   ],
   "source": [
    "import pandas as pd\n",
    "import numpy as np\n",
    "\n",
    "print(pd.__version__)\n",
    "print(np.__version__)"
   ]
  },
  {
   "cell_type": "markdown",
   "metadata": {},
   "source": [
    "## 1.  CSV 데이터 가져오기"
   ]
  },
  {
   "cell_type": "code",
   "execution_count": 3,
   "metadata": {},
   "outputs": [
    {
     "data": {
      "text/html": [
       "<div>\n",
       "<style scoped>\n",
       "    .dataframe tbody tr th:only-of-type {\n",
       "        vertical-align: middle;\n",
       "    }\n",
       "\n",
       "    .dataframe tbody tr th {\n",
       "        vertical-align: top;\n",
       "    }\n",
       "\n",
       "    .dataframe thead th {\n",
       "        text-align: right;\n",
       "    }\n",
       "</style>\n",
       "<table border=\"1\" class=\"dataframe\">\n",
       "  <thead>\n",
       "    <tr style=\"text-align: right;\">\n",
       "      <th></th>\n",
       "      <th>User ID</th>\n",
       "      <th>Gender</th>\n",
       "      <th>Age</th>\n",
       "      <th>EstimatedSalary</th>\n",
       "      <th>Purchased</th>\n",
       "    </tr>\n",
       "  </thead>\n",
       "  <tbody>\n",
       "    <tr>\n",
       "      <th>0</th>\n",
       "      <td>15624510</td>\n",
       "      <td>Male</td>\n",
       "      <td>19.0</td>\n",
       "      <td>19000.0</td>\n",
       "      <td>0</td>\n",
       "    </tr>\n",
       "    <tr>\n",
       "      <th>1</th>\n",
       "      <td>15810944</td>\n",
       "      <td>Male</td>\n",
       "      <td>35.0</td>\n",
       "      <td>20000.0</td>\n",
       "      <td>0</td>\n",
       "    </tr>\n",
       "    <tr>\n",
       "      <th>2</th>\n",
       "      <td>15668575</td>\n",
       "      <td>Female</td>\n",
       "      <td>26.0</td>\n",
       "      <td>NaN</td>\n",
       "      <td>0</td>\n",
       "    </tr>\n",
       "    <tr>\n",
       "      <th>3</th>\n",
       "      <td>15603246</td>\n",
       "      <td>Female</td>\n",
       "      <td>27.0</td>\n",
       "      <td>57000.0</td>\n",
       "      <td>0</td>\n",
       "    </tr>\n",
       "    <tr>\n",
       "      <th>4</th>\n",
       "      <td>15804002</td>\n",
       "      <td>Male</td>\n",
       "      <td>NaN</td>\n",
       "      <td>76000.0</td>\n",
       "      <td>0</td>\n",
       "    </tr>\n",
       "    <tr>\n",
       "      <th>5</th>\n",
       "      <td>15728773</td>\n",
       "      <td>Male</td>\n",
       "      <td>27.0</td>\n",
       "      <td>58000.0</td>\n",
       "      <td>0</td>\n",
       "    </tr>\n",
       "    <tr>\n",
       "      <th>6</th>\n",
       "      <td>15598044</td>\n",
       "      <td>NaN</td>\n",
       "      <td>27.0</td>\n",
       "      <td>84000.0</td>\n",
       "      <td>0</td>\n",
       "    </tr>\n",
       "    <tr>\n",
       "      <th>7</th>\n",
       "      <td>15694829</td>\n",
       "      <td>Female</td>\n",
       "      <td>32.0</td>\n",
       "      <td>150000.0</td>\n",
       "      <td>1</td>\n",
       "    </tr>\n",
       "    <tr>\n",
       "      <th>8</th>\n",
       "      <td>15600575</td>\n",
       "      <td>Male</td>\n",
       "      <td>25.0</td>\n",
       "      <td>33000.0</td>\n",
       "      <td>0</td>\n",
       "    </tr>\n",
       "    <tr>\n",
       "      <th>9</th>\n",
       "      <td>15727311</td>\n",
       "      <td>Female</td>\n",
       "      <td>35.0</td>\n",
       "      <td>65000.0</td>\n",
       "      <td>0</td>\n",
       "    </tr>\n",
       "  </tbody>\n",
       "</table>\n",
       "</div>"
      ],
      "text/plain": [
       "    User ID  Gender   Age  EstimatedSalary  Purchased\n",
       "0  15624510    Male  19.0          19000.0          0\n",
       "1  15810944    Male  35.0          20000.0          0\n",
       "2  15668575  Female  26.0              NaN          0\n",
       "3  15603246  Female  27.0          57000.0          0\n",
       "4  15804002    Male   NaN          76000.0          0\n",
       "5  15728773    Male  27.0          58000.0          0\n",
       "6  15598044     NaN  27.0          84000.0          0\n",
       "7  15694829  Female  32.0         150000.0          1\n",
       "8  15600575    Male  25.0          33000.0          0\n",
       "9  15727311  Female  35.0          65000.0          0"
      ]
     },
     "execution_count": 3,
     "metadata": {},
     "output_type": "execute_result"
    }
   ],
   "source": [
    "data = pd.read_csv('Social_Network_Ads.csv')\n",
    "data.head(10)"
   ]
  },
  {
   "cell_type": "code",
   "execution_count": 5,
   "metadata": {},
   "outputs": [
    {
     "data": {
      "text/plain": [
       "(400, 5)"
      ]
     },
     "execution_count": 5,
     "metadata": {},
     "output_type": "execute_result"
    }
   ],
   "source": [
    "data.shape"
   ]
  },
  {
   "cell_type": "code",
   "execution_count": 6,
   "metadata": {},
   "outputs": [
    {
     "name": "stdout",
     "output_type": "stream",
     "text": [
      "<class 'pandas.core.frame.DataFrame'>\n",
      "RangeIndex: 400 entries, 0 to 399\n",
      "Data columns (total 5 columns):\n",
      "User ID            400 non-null int64\n",
      "Gender             394 non-null object\n",
      "Age                390 non-null float64\n",
      "EstimatedSalary    388 non-null float64\n",
      "Purchased          400 non-null int64\n",
      "dtypes: float64(2), int64(2), object(1)\n",
      "memory usage: 15.7+ KB\n"
     ]
    }
   ],
   "source": [
    "data.info()"
   ]
  },
  {
   "cell_type": "code",
   "execution_count": 7,
   "metadata": {},
   "outputs": [
    {
     "data": {
      "text/plain": [
       "User ID             0\n",
       "Gender              6\n",
       "Age                10\n",
       "EstimatedSalary    12\n",
       "Purchased           0\n",
       "dtype: int64"
      ]
     },
     "execution_count": 7,
     "metadata": {},
     "output_type": "execute_result"
    }
   ],
   "source": [
    "data.isnull().sum()"
   ]
  },
  {
   "cell_type": "markdown",
   "metadata": {},
   "source": [
    "## 2. feature/label 나누기"
   ]
  },
  {
   "cell_type": "code",
   "execution_count": 8,
   "metadata": {},
   "outputs": [
    {
     "data": {
      "text/html": [
       "<div>\n",
       "<style scoped>\n",
       "    .dataframe tbody tr th:only-of-type {\n",
       "        vertical-align: middle;\n",
       "    }\n",
       "\n",
       "    .dataframe tbody tr th {\n",
       "        vertical-align: top;\n",
       "    }\n",
       "\n",
       "    .dataframe thead th {\n",
       "        text-align: right;\n",
       "    }\n",
       "</style>\n",
       "<table border=\"1\" class=\"dataframe\">\n",
       "  <thead>\n",
       "    <tr style=\"text-align: right;\">\n",
       "      <th></th>\n",
       "      <th>Gender</th>\n",
       "      <th>Age</th>\n",
       "      <th>EstimatedSalary</th>\n",
       "      <th>Purchased</th>\n",
       "    </tr>\n",
       "  </thead>\n",
       "  <tbody>\n",
       "    <tr>\n",
       "      <th>0</th>\n",
       "      <td>Male</td>\n",
       "      <td>19.0</td>\n",
       "      <td>19000.0</td>\n",
       "      <td>0</td>\n",
       "    </tr>\n",
       "    <tr>\n",
       "      <th>1</th>\n",
       "      <td>Male</td>\n",
       "      <td>35.0</td>\n",
       "      <td>20000.0</td>\n",
       "      <td>0</td>\n",
       "    </tr>\n",
       "    <tr>\n",
       "      <th>2</th>\n",
       "      <td>Female</td>\n",
       "      <td>26.0</td>\n",
       "      <td>NaN</td>\n",
       "      <td>0</td>\n",
       "    </tr>\n",
       "    <tr>\n",
       "      <th>3</th>\n",
       "      <td>Female</td>\n",
       "      <td>27.0</td>\n",
       "      <td>57000.0</td>\n",
       "      <td>0</td>\n",
       "    </tr>\n",
       "    <tr>\n",
       "      <th>4</th>\n",
       "      <td>Male</td>\n",
       "      <td>NaN</td>\n",
       "      <td>76000.0</td>\n",
       "      <td>0</td>\n",
       "    </tr>\n",
       "  </tbody>\n",
       "</table>\n",
       "</div>"
      ],
      "text/plain": [
       "   Gender   Age  EstimatedSalary  Purchased\n",
       "0    Male  19.0          19000.0          0\n",
       "1    Male  35.0          20000.0          0\n",
       "2  Female  26.0              NaN          0\n",
       "3  Female  27.0          57000.0          0\n",
       "4    Male   NaN          76000.0          0"
      ]
     },
     "execution_count": 8,
     "metadata": {},
     "output_type": "execute_result"
    }
   ],
   "source": [
    "data = data.drop('User ID', axis=1)\n",
    "data.head()"
   ]
  },
  {
   "cell_type": "code",
   "execution_count": 9,
   "metadata": {},
   "outputs": [
    {
     "name": "stdout",
     "output_type": "stream",
     "text": [
      "(400, 3)\n",
      "(400,)\n"
     ]
    }
   ],
   "source": [
    "X = data.iloc[:, :-1].values\n",
    "y = data.iloc[:, -1].values\n",
    "\n",
    "print(X.shape)\n",
    "print(y.shape)"
   ]
  },
  {
   "cell_type": "markdown",
   "metadata": {},
   "source": [
    "## 3-1. Clean Missing Data-number"
   ]
  },
  {
   "cell_type": "code",
   "execution_count": 11,
   "metadata": {
    "scrolled": true
   },
   "outputs": [
    {
     "name": "stdout",
     "output_type": "stream",
     "text": [
      "          0        1        2\n",
      "0      Male       19    19000\n",
      "1      Male       35    20000\n",
      "2    Female       26  69628.9\n",
      "3    Female       27    57000\n",
      "4      Male  37.7821    76000\n",
      "5      Male       27    58000\n",
      "6       NaN       27    84000\n",
      "7    Female       32   150000\n",
      "8      Male       25    33000\n",
      "9    Female       35    65000\n",
      "10   Female       26    80000\n",
      "11   Female       26    52000\n",
      "12     Male  37.7821    86000\n",
      "13     Male       32    18000\n",
      "14     Male       18    82000\n",
      "15     Male       29    80000\n",
      "16     Male       47  69628.9\n",
      "17     Male       45    26000\n",
      "18     Male       46    28000\n",
      "19   Female       48    29000\n",
      "20     Male       45    22000\n",
      "21   Female       47    49000\n",
      "22     Male       48    41000\n",
      "23   Female       45    22000\n",
      "24     Male       46    23000\n",
      "25     Male       47  69628.9\n",
      "26     Male       49    28000\n",
      "27   Female       47    30000\n",
      "28     Male       29    43000\n",
      "29     Male       31    18000\n",
      "..      ...      ...      ...\n",
      "370  Female       60    46000\n",
      "371    Male       60    83000\n",
      "372  Female       39    73000\n",
      "373    Male       59   130000\n",
      "374  Female       37  69628.9\n",
      "375  Female       46    32000\n",
      "376  Female       46    74000\n",
      "377  Female       42    53000\n",
      "378    Male       41    87000\n",
      "379  Female       58    23000\n",
      "380    Male       42    64000\n",
      "381    Male       48    33000\n",
      "382  Female       44   139000\n",
      "383    Male       49    28000\n",
      "384  Female       57    33000\n",
      "385    Male       56    60000\n",
      "386  Female       49    39000\n",
      "387    Male       39    71000\n",
      "388    Male       47    34000\n",
      "389  Female       48    35000\n",
      "390     NaN       48    33000\n",
      "391    Male       47    23000\n",
      "392  Female       45    45000\n",
      "393    Male       60    42000\n",
      "394  Female       39    59000\n",
      "395  Female       46    41000\n",
      "396    Male       51    23000\n",
      "397  Female       50    20000\n",
      "398    Male       36    33000\n",
      "399  Female       49    36000\n",
      "\n",
      "[400 rows x 3 columns]\n"
     ]
    }
   ],
   "source": [
    "from sklearn.impute import SimpleImputer\n",
    "\n",
    "imputer_n = SimpleImputer(missing_values=np.nan, strategy='mean')\n",
    "X[:, 1:3] = imputer_n.fit_transform(X[:, 1:3])\n",
    "\n",
    "print(pd.DataFrame(X))"
   ]
  },
  {
   "cell_type": "markdown",
   "metadata": {},
   "source": [
    "## 3-2. Clean Missing Data-category"
   ]
  },
  {
   "cell_type": "code",
   "execution_count": 12,
   "metadata": {
    "scrolled": true
   },
   "outputs": [
    {
     "name": "stdout",
     "output_type": "stream",
     "text": [
      "          0        1        2\n",
      "0      Male       19    19000\n",
      "1      Male       35    20000\n",
      "2    Female       26  69628.9\n",
      "3    Female       27    57000\n",
      "4      Male  37.7821    76000\n",
      "5      Male       27    58000\n",
      "6    Female       27    84000\n",
      "7    Female       32   150000\n",
      "8      Male       25    33000\n",
      "9    Female       35    65000\n",
      "10   Female       26    80000\n",
      "11   Female       26    52000\n",
      "12     Male  37.7821    86000\n",
      "13     Male       32    18000\n",
      "14     Male       18    82000\n",
      "15     Male       29    80000\n",
      "16     Male       47  69628.9\n",
      "17     Male       45    26000\n",
      "18     Male       46    28000\n",
      "19   Female       48    29000\n",
      "20     Male       45    22000\n",
      "21   Female       47    49000\n",
      "22     Male       48    41000\n",
      "23   Female       45    22000\n",
      "24     Male       46    23000\n",
      "25     Male       47  69628.9\n",
      "26     Male       49    28000\n",
      "27   Female       47    30000\n",
      "28     Male       29    43000\n",
      "29     Male       31    18000\n",
      "..      ...      ...      ...\n",
      "370  Female       60    46000\n",
      "371    Male       60    83000\n",
      "372  Female       39    73000\n",
      "373    Male       59   130000\n",
      "374  Female       37  69628.9\n",
      "375  Female       46    32000\n",
      "376  Female       46    74000\n",
      "377  Female       42    53000\n",
      "378    Male       41    87000\n",
      "379  Female       58    23000\n",
      "380    Male       42    64000\n",
      "381    Male       48    33000\n",
      "382  Female       44   139000\n",
      "383    Male       49    28000\n",
      "384  Female       57    33000\n",
      "385    Male       56    60000\n",
      "386  Female       49    39000\n",
      "387    Male       39    71000\n",
      "388    Male       47    34000\n",
      "389  Female       48    35000\n",
      "390  Female       48    33000\n",
      "391    Male       47    23000\n",
      "392  Female       45    45000\n",
      "393    Male       60    42000\n",
      "394  Female       39    59000\n",
      "395  Female       46    41000\n",
      "396    Male       51    23000\n",
      "397  Female       50    20000\n",
      "398    Male       36    33000\n",
      "399  Female       49    36000\n",
      "\n",
      "[400 rows x 3 columns]\n"
     ]
    }
   ],
   "source": [
    "imputer_c = SimpleImputer(missing_values=np.nan, strategy='most_frequent')\n",
    "X[:, :1] = imputer_c.fit_transform(X[:, :1])\n",
    "\n",
    "print(pd.DataFrame(X))"
   ]
  },
  {
   "cell_type": "code",
   "execution_count": 13,
   "metadata": {},
   "outputs": [
    {
     "data": {
      "text/plain": [
       "0    0\n",
       "1    0\n",
       "2    0\n",
       "dtype: int64"
      ]
     },
     "execution_count": 13,
     "metadata": {},
     "output_type": "execute_result"
    }
   ],
   "source": [
    "pd.DataFrame(X).isnull().sum()"
   ]
  },
  {
   "cell_type": "markdown",
   "metadata": {},
   "source": [
    "## 4. Make Categorical"
   ]
  },
  {
   "cell_type": "code",
   "execution_count": 14,
   "metadata": {
    "scrolled": true
   },
   "outputs": [
    {
     "name": "stdout",
     "output_type": "stream",
     "text": [
      "       0    1          2              3\n",
      "0    0.0  1.0  19.000000   19000.000000\n",
      "1    0.0  1.0  35.000000   20000.000000\n",
      "2    1.0  0.0  26.000000   69628.865979\n",
      "3    1.0  0.0  27.000000   57000.000000\n",
      "4    0.0  1.0  37.782051   76000.000000\n",
      "5    0.0  1.0  27.000000   58000.000000\n",
      "6    1.0  0.0  27.000000   84000.000000\n",
      "7    1.0  0.0  32.000000  150000.000000\n",
      "8    0.0  1.0  25.000000   33000.000000\n",
      "9    1.0  0.0  35.000000   65000.000000\n",
      "10   1.0  0.0  26.000000   80000.000000\n",
      "11   1.0  0.0  26.000000   52000.000000\n",
      "12   0.0  1.0  37.782051   86000.000000\n",
      "13   0.0  1.0  32.000000   18000.000000\n",
      "14   0.0  1.0  18.000000   82000.000000\n",
      "15   0.0  1.0  29.000000   80000.000000\n",
      "16   0.0  1.0  47.000000   69628.865979\n",
      "17   0.0  1.0  45.000000   26000.000000\n",
      "18   0.0  1.0  46.000000   28000.000000\n",
      "19   1.0  0.0  48.000000   29000.000000\n",
      "20   0.0  1.0  45.000000   22000.000000\n",
      "21   1.0  0.0  47.000000   49000.000000\n",
      "22   0.0  1.0  48.000000   41000.000000\n",
      "23   1.0  0.0  45.000000   22000.000000\n",
      "24   0.0  1.0  46.000000   23000.000000\n",
      "25   0.0  1.0  47.000000   69628.865979\n",
      "26   0.0  1.0  49.000000   28000.000000\n",
      "27   1.0  0.0  47.000000   30000.000000\n",
      "28   0.0  1.0  29.000000   43000.000000\n",
      "29   0.0  1.0  31.000000   18000.000000\n",
      "..   ...  ...        ...            ...\n",
      "370  1.0  0.0  60.000000   46000.000000\n",
      "371  0.0  1.0  60.000000   83000.000000\n",
      "372  1.0  0.0  39.000000   73000.000000\n",
      "373  0.0  1.0  59.000000  130000.000000\n",
      "374  1.0  0.0  37.000000   69628.865979\n",
      "375  1.0  0.0  46.000000   32000.000000\n",
      "376  1.0  0.0  46.000000   74000.000000\n",
      "377  1.0  0.0  42.000000   53000.000000\n",
      "378  0.0  1.0  41.000000   87000.000000\n",
      "379  1.0  0.0  58.000000   23000.000000\n",
      "380  0.0  1.0  42.000000   64000.000000\n",
      "381  0.0  1.0  48.000000   33000.000000\n",
      "382  1.0  0.0  44.000000  139000.000000\n",
      "383  0.0  1.0  49.000000   28000.000000\n",
      "384  1.0  0.0  57.000000   33000.000000\n",
      "385  0.0  1.0  56.000000   60000.000000\n",
      "386  1.0  0.0  49.000000   39000.000000\n",
      "387  0.0  1.0  39.000000   71000.000000\n",
      "388  0.0  1.0  47.000000   34000.000000\n",
      "389  1.0  0.0  48.000000   35000.000000\n",
      "390  1.0  0.0  48.000000   33000.000000\n",
      "391  0.0  1.0  47.000000   23000.000000\n",
      "392  1.0  0.0  45.000000   45000.000000\n",
      "393  0.0  1.0  60.000000   42000.000000\n",
      "394  1.0  0.0  39.000000   59000.000000\n",
      "395  1.0  0.0  46.000000   41000.000000\n",
      "396  0.0  1.0  51.000000   23000.000000\n",
      "397  1.0  0.0  50.000000   20000.000000\n",
      "398  0.0  1.0  36.000000   33000.000000\n",
      "399  1.0  0.0  49.000000   36000.000000\n",
      "\n",
      "[400 rows x 4 columns]\n"
     ]
    }
   ],
   "source": [
    "from sklearn.compose import ColumnTransformer\n",
    "from sklearn.preprocessing import OneHotEncoder\n",
    "\n",
    "ct = ColumnTransformer([('one_hot_encoder', OneHotEncoder(),[0])], remainder='passthrough')\n",
    "X = ct.fit_transform(X).astype(float)\n",
    "\n",
    "print(pd.DataFrame(X))"
   ]
  },
  {
   "cell_type": "markdown",
   "metadata": {},
   "source": [
    "## 5. Split Train/Test Set\n"
   ]
  },
  {
   "cell_type": "code",
   "execution_count": 15,
   "metadata": {},
   "outputs": [
    {
     "name": "stdout",
     "output_type": "stream",
     "text": [
      "X_train: (320, 4)\n",
      "y_train: (320,)\n",
      "X_test: (80, 4)\n",
      "y_test: (80,)\n"
     ]
    }
   ],
   "source": [
    "from sklearn.model_selection import train_test_split\n",
    "\n",
    "X_train, X_test, y_train, y_test = train_test_split(X, y, test_size=0.2, random_state=9)\n",
    "\n",
    "print(\"X_train:\", X_train.shape)\n",
    "print(\"y_train:\", y_train.shape)\n",
    "print(\"X_test:\", X_test.shape)\n",
    "print(\"y_test:\", y_test.shape)"
   ]
  },
  {
   "cell_type": "markdown",
   "metadata": {},
   "source": [
    "## 6. Standardization"
   ]
  },
  {
   "cell_type": "code",
   "execution_count": 17,
   "metadata": {
    "scrolled": true
   },
   "outputs": [
    {
     "name": "stdout",
     "output_type": "stream",
     "text": [
      "       0    1         2         3\n",
      "0    1.0  0.0 -0.932439  0.424335\n",
      "1    0.0  1.0 -1.601781  0.063066\n",
      "2    1.0  0.0  0.119384  0.032960\n",
      "3    0.0  1.0  2.127409 -0.840107\n",
      "4    0.0  1.0  0.693105  0.273806\n",
      "5    1.0  0.0  1.075586 -1.020742\n",
      "6    1.0  0.0 -0.263097 -1.412117\n",
      "7    1.0  0.0  0.310624 -0.569155\n",
      "8    0.0  1.0 -0.071857  0.213595\n",
      "9    1.0  0.0  0.406244  1.146874\n",
      "10   1.0  0.0 -1.123680 -1.652964\n",
      "11   0.0  1.0  0.884346 -0.008319\n",
      "12   1.0  0.0  1.171206 -1.502435\n",
      "13   1.0  0.0 -1.410540 -0.117569\n",
      "14   0.0  1.0  0.406244 -0.478838\n",
      "15   1.0  0.0  1.936168 -1.412117\n",
      "16   1.0  0.0  0.979966  1.929624\n",
      "17   1.0  0.0  0.002923  2.050048\n",
      "18   0.0  1.0 -0.071857  0.153383\n",
      "19   1.0  0.0  0.310624  0.063066\n",
      "20   1.0  0.0 -0.645578 -1.652964\n",
      "21   1.0  0.0 -0.263097  0.815711\n",
      "22   0.0  1.0  0.693105 -1.442223\n",
      "23   0.0  1.0 -0.932439  0.574864\n",
      "24   0.0  1.0 -0.071857  2.230682\n",
      "25   1.0  0.0 -0.263097 -0.147674\n",
      "26   1.0  0.0  0.979966 -1.050848\n",
      "27   1.0  0.0 -1.028059 -0.358415\n",
      "28   1.0  0.0  0.215004  0.063066\n",
      "29   0.0  1.0  0.979966  2.140365\n",
      "..   ...  ...       ...       ...\n",
      "290  0.0  1.0 -0.741199  1.116768\n",
      "291  0.0  1.0  0.310624 -0.328309\n",
      "292  0.0  1.0  1.840548  0.123278\n",
      "293  0.0  1.0  1.744928  1.899519\n",
      "294  1.0  0.0 -1.123680  0.424335\n",
      "295  1.0  0.0 -0.454338 -0.298203\n",
      "296  0.0  1.0  0.884346 -0.810002\n",
      "297  1.0  0.0  1.840548 -1.321800\n",
      "298  0.0  1.0  0.002923  0.484547\n",
      "299  1.0  0.0 -0.167477  0.153383\n",
      "300  1.0  0.0  0.023763  1.267297\n",
      "301  0.0  1.0  0.693105 -1.141165\n",
      "302  1.0  0.0 -0.454338 -0.870213\n",
      "303  1.0  0.0  0.788725  0.364124\n",
      "304  0.0  1.0 -0.263097  0.635076\n",
      "305  1.0  0.0  1.553687  1.146874\n",
      "306  0.0  1.0 -0.167477 -0.539050\n",
      "307  0.0  1.0  0.310624 -0.539050\n",
      "308  0.0  1.0  0.023763 -0.328309\n",
      "309  1.0  0.0  0.597485 -0.930425\n",
      "310  0.0  1.0  0.406244  0.093172\n",
      "311  1.0  0.0 -0.549958  1.417826\n",
      "312  0.0  1.0  0.979966 -0.870213\n",
      "313  0.0  1.0 -1.314920 -0.358415\n",
      "314  1.0  0.0  0.119384 -0.268098\n",
      "315  0.0  1.0 -0.071857 -0.539050\n",
      "316  1.0  0.0 -1.410540 -0.659473\n",
      "317  0.0  1.0  0.406244 -0.147674\n",
      "318  0.0  1.0  0.119384  0.213595\n",
      "319  1.0  0.0  0.597485  2.080153\n",
      "\n",
      "[320 rows x 4 columns]\n"
     ]
    }
   ],
   "source": [
    "from sklearn.preprocessing import StandardScaler\n",
    "\n",
    "sc = StandardScaler()\n",
    "X_train[:, 2:] = sc.fit_transform(X_train[:, 2:])\n",
    "X_test[:, 2:] = sc.fit_transform(X_test[:, 2:]) # train, test 각각 시행\n",
    "\n",
    "print(pd.DataFrame(X_train))"
   ]
  },
  {
   "cell_type": "markdown",
   "metadata": {},
   "source": [
    "## 7. Train\n"
   ]
  },
  {
   "cell_type": "markdown",
   "metadata": {},
   "source": [
    "### 1) Logistic Regression"
   ]
  },
  {
   "cell_type": "code",
   "execution_count": 18,
   "metadata": {
    "scrolled": true
   },
   "outputs": [
    {
     "name": "stderr",
     "output_type": "stream",
     "text": [
      "/home/nbuser/anaconda3_501/lib/python3.6/site-packages/sklearn/linear_model/logistic.py:433: FutureWarning: Default solver will be changed to 'lbfgs' in 0.22. Specify a solver to silence this warning.\n",
      "  FutureWarning)\n"
     ]
    },
    {
     "data": {
      "text/plain": [
       "LogisticRegression(C=1.0, class_weight=None, dual=False, fit_intercept=True,\n",
       "          intercept_scaling=1, max_iter=100, multi_class='warn',\n",
       "          n_jobs=None, penalty='l2', random_state=None, solver='warn',\n",
       "          tol=0.0001, verbose=0, warm_start=False)"
      ]
     },
     "execution_count": 18,
     "metadata": {},
     "output_type": "execute_result"
    }
   ],
   "source": [
    "from sklearn.linear_model import LogisticRegression\n",
    "\n",
    "classifier = LogisticRegression()\n",
    "classifier.fit(X_train, y_train)"
   ]
  },
  {
   "cell_type": "markdown",
   "metadata": {},
   "source": [
    "### 2) SVM"
   ]
  },
  {
   "cell_type": "code",
   "execution_count": 19,
   "metadata": {},
   "outputs": [
    {
     "data": {
      "text/plain": [
       "SVC(C=1.0, cache_size=200, class_weight=None, coef0=0.0,\n",
       "  decision_function_shape='ovr', degree=3, gamma='scale', kernel='rbf',\n",
       "  max_iter=-1, probability=False, random_state=None, shrinking=True,\n",
       "  tol=0.001, verbose=False)"
      ]
     },
     "execution_count": 19,
     "metadata": {},
     "output_type": "execute_result"
    }
   ],
   "source": [
    "from sklearn import svm\n",
    "\n",
    "classifier_svm = svm.SVC(gamma='scale')\n",
    "classifier_svm.fit(X_train, y_train)"
   ]
  },
  {
   "cell_type": "markdown",
   "metadata": {},
   "source": [
    "## 8. Predict(Scoring)\n"
   ]
  },
  {
   "cell_type": "code",
   "execution_count": 20,
   "metadata": {},
   "outputs": [
    {
     "name": "stdout",
     "output_type": "stream",
     "text": [
      "[0 0 1 0 0 1 0 0 1 0 1 0 0 1 0 1 0 0 0 1 0 0 0 0 0 1 0 0 1 0 1 0 1 0 0 0 1\n",
      " 1 0 1 1 0 1 0 1 0 0 0 0 1 0 1 1 1 1 0 0 0 1 0 0 0 0 0 0 0 1 0 0 1 0 1 1 1\n",
      " 0 0 1 1 1 1]\n",
      "[0 0 0 0 0 0 0 0 1 1 1 0 0 1 0 1 0 0 0 1 0 0 0 0 0 1 0 0 1 0 1 0 1 0 0 0 1\n",
      " 0 0 1 1 0 1 0 1 1 0 0 0 1 0 0 0 0 1 0 0 0 1 0 0 0 0 0 0 0 1 0 0 1 0 1 1 1\n",
      " 0 0 0 1 1 0]\n",
      "[0 0 1 0 0 1 0 0 1 1 1 0 0 1 0 1 0 0 0 1 0 0 0 0 0 0 0 0 1 0 1 0 1 0 0 0 0\n",
      " 1 0 1 1 0 1 0 1 1 0 0 0 1 0 1 1 0 1 0 0 0 1 0 0 1 0 0 0 0 1 0 0 1 0 1 1 1\n",
      " 0 0 1 1 1 0]\n"
     ]
    }
   ],
   "source": [
    "y_pred = classifier.predict(X_test)\n",
    "y_pred_svm = classifier_svm.predict(X_test)\n",
    "\n",
    "print(y_test)\n",
    "print(y_pred)\n",
    "print(y_pred_svm)"
   ]
  },
  {
   "cell_type": "markdown",
   "metadata": {},
   "source": [
    "## 9. Evaluate\n"
   ]
  },
  {
   "cell_type": "code",
   "execution_count": 21,
   "metadata": {},
   "outputs": [
    {
     "name": "stdout",
     "output_type": "stream",
     "text": [
      "0.875\n",
      "0.9125\n"
     ]
    }
   ],
   "source": [
    "from sklearn.metrics import accuracy_score\n",
    "\n",
    "print(accuracy_score(y_test, y_pred))\n",
    "print(accuracy_score(y_test, y_pred_svm))"
   ]
  },
  {
   "cell_type": "markdown",
   "metadata": {},
   "source": [
    "## 10. ConfusionMatrix \n"
   ]
  },
  {
   "cell_type": "code",
   "execution_count": 22,
   "metadata": {},
   "outputs": [
    {
     "name": "stdout",
     "output_type": "stream",
     "text": [
      "[[46  2]\n",
      " [ 8 24]]\n",
      "[[45  3]\n",
      " [ 4 28]]\n"
     ]
    }
   ],
   "source": [
    "from sklearn.metrics import confusion_matrix\n",
    "\n",
    "cm = confusion_matrix(y_test, y_pred)\n",
    "cm_svm = confusion_matrix(y_test, y_pred_svm)\n",
    "\n",
    "print(cm)\n",
    "print(cm_svm)"
   ]
  },
  {
   "cell_type": "markdown",
   "metadata": {},
   "source": [
    "## 11. ConfusionMatrix Visualize\n"
   ]
  },
  {
   "cell_type": "code",
   "execution_count": 25,
   "metadata": {},
   "outputs": [
    {
     "data": {
      "text/plain": [
       "<matplotlib.axes._subplots.AxesSubplot at 0x7f6a51476a90>"
      ]
     },
     "execution_count": 25,
     "metadata": {},
     "output_type": "execute_result"
    },
    {
     "data": {
      "image/png": "[encoded data removed]",
      "text/plain": [
       "<Figure size 720x504 with 2 Axes>"
      ]
     },
     "metadata": {
      "needs_background": "light"
     },
     "output_type": "display_data"
    }
   ],
   "source": [
    "import matplotlib.pyplot as plt\n",
    "import seaborn as sn\n",
    "\n",
    "df_cm = pd.DataFrame(cm, index = ['true', 'false'],\n",
    "                    columns = ['true', 'false'])\n",
    "plt.figure(figsize = (10,7))\n",
    "sn.heatmap(df_cm, annot=True)"
   ]
  },
  {
   "cell_type": "code",
   "execution_count": 24,
   "metadata": {},
   "outputs": [
    {
     "data": {
      "text/plain": [
       "<matplotlib.axes._subplots.AxesSubplot at 0x7f6a514d4cc0>"
      ]
     },
     "execution_count": 24,
     "metadata": {},
     "output_type": "execute_result"
    },
    {
     "data": {
      "image/png": "[encoded data removed]",
      "text/plain": [
       "<Figure size 720x504 with 2 Axes>"
      ]
     },
     "metadata": {
      "needs_background": "light"
     },
     "output_type": "display_data"
    }
   ],
   "source": [
    "df_cm_svm = pd.DataFrame(cm_svm, index = ['true', 'false'],\n",
    "                    columns = ['true', 'false'])\n",
    "plt.figure(figsize = (10,7))\n",
    "sn.heatmap(df_cm_svm, annot=True)"
   ]
  }
 ],
 "metadata": {
  "kernelspec": {
   "display_name": "Python 3",
   "language": "python",
   "name": "python3"
  },
  "language_info": {
   "codemirror_mode": {
    "name": "ipython",
    "version": 3
   },
   "file_extension": ".py",
   "mimetype": "text/x-python",
   "name": "python",
   "nbconvert_exporter": "python",
   "pygments_lexer": "ipython3",
   "version": "3.7.5"
  },
  "toc": {
   "base_numbering": 1,
   "nav_menu": {},
   "number_sections": true,
   "sideBar": true,
   "skip_h1_title": false,
   "title_cell": "Table of Contents",
   "title_sidebar": "Contents",
   "toc_cell": false,
   "toc_position": {},
   "toc_section_display": true,
   "toc_window_display": false
  },
  "varInspector": {
   "cols": {
    "lenName": 16,
    "lenType": 16,
    "lenVar": 40
   },
   "kernels_config": {
    "python": {
     "delete_cmd_postfix": "",
     "delete_cmd_prefix": "del ",
     "library": "var_list.py",
     "varRefreshCmd": "print(var_dic_list())"
    },
    "r": {
     "delete_cmd_postfix": ") ",
     "delete_cmd_prefix": "rm(",
     "library": "var_list.r",
     "varRefreshCmd": "cat(var_dic_list()) "
    }
   },
   "types_to_exclude": [
    "module",
    "function",
    "builtin_function_or_method",
    "instance",
    "_Feature"
   ],
   "window_display": false
  }
 },
 "nbformat": 4,
 "nbformat_minor": 1
}
