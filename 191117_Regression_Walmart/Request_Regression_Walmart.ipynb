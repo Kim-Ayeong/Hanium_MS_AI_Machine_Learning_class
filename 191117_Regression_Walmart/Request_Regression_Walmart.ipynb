{
  "cells": [
    {
      "metadata": {
        "trusted": true
      },
      "cell_type": "code",
      "source": "import urllib.request\nimport json",
      "execution_count": 1,
      "outputs": []
    },
    {
      "metadata": {
        "trusted": true
      },
      "cell_type": "code",
      "source": "#default 값\ndata = {\n        \"Inputs\": {\n                \"input1\":\n                [\n                    {\n                            '지점': \"1\",   \n                            '날짜': \"2019-11-17\",   \n                            '온도': \"60\",   \n                            '연료비': \"3\",   \n                            '소비자물가지수': \"170\",   \n                            '실업률': \"7\",   \n                            '부서': \"1\",   \n                            '휴일여부': \"false\",   \n                            '유형': \"A\",   \n                            '규모': \"13000\",   \n                    }\n                ],\n        },\n    \"GlobalParameters\":  {\n    }\n}",
      "execution_count": 11,
      "outputs": []
    },
    {
      "metadata": {
        "trusted": true
      },
      "cell_type": "code",
      "source": "body = str.encode(json.dumps(data))\n\nurl = 'https://ussouthcentral.services.azureml.net/workspaces/784b2f6d8024416c89a06555aa012479/services/29edd215d19d4dd78d934eb877c5b94c/execute?api-version=2.0&format=swagger'\napi_key = 'ZOMwAHFXHcnc/9iEboNhxMNIWQwOt/79zUHhahlH4X7xzourm4uwXdsgSPq9H+CU/Ox0/kwXWTA+KM7OoYaFww==' # Replace this with the API key for the web service\nheaders = {'Content-Type':'application/json', 'Authorization':('Bearer '+ api_key)}\n\nreq = urllib.request.Request(url, body, headers)",
      "execution_count": 12,
      "outputs": []
    },
    {
      "metadata": {
        "trusted": true
      },
      "cell_type": "code",
      "source": "try:\n    response = urllib.request.urlopen(req)\n\n    result = response.read()\n    print(result)\nexcept urllib.error.HTTPError as error:\n    print(\"The request failed with status code: \" + str(error.code))\n\n    # Print the headers - they include the requert ID and the timestamp, which are useful for debugging the failure\n    print(error.info())\n    print(json.loads(error.read().decode(\"utf8\", 'ignore')))",
      "execution_count": 13,
      "outputs": [
        {
          "output_type": "stream",
          "text": "b'{\"Results\":{\"output1\":[{\"Scored Labels\":\"10726.197265625\"}]}}'\n",
          "name": "stdout"
        }
      ]
    },
    {
      "metadata": {
        "trusted": true
      },
      "cell_type": "code",
      "source": "",
      "execution_count": null,
      "outputs": []
    }
  ],
  "metadata": {
    "kernelspec": {
      "name": "python36",
      "display_name": "Python 3.6",
      "language": "python"
    },
    "language_info": {
      "mimetype": "text/x-python",
      "nbconvert_exporter": "python",
      "name": "python",
      "pygments_lexer": "ipython3",
      "version": "3.6.6",
      "file_extension": ".py",
      "codemirror_mode": {
        "version": 3,
        "name": "ipython"
      }
    }
  },
  "nbformat": 4,
  "nbformat_minor": 1
}