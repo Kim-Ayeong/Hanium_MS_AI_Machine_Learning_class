{
  "cells": [
    {
      "metadata": {
        "trusted": true
      },
      "cell_type": "code",
      "source": "import urllib.request\nimport json",
      "execution_count": 1,
      "outputs": []
    },
    {
      "metadata": {
        "trusted": true
      },
      "cell_type": "code",
      "source": "data = {\n        \"Inputs\": {\n                \"input1\":\n                [\n                    {\n                            '선실등급': \"1\",   \n                            '성별': \"female\",   \n                            '나이': \"27\",   \n                            '형제배우자수': \"1\",   \n                            '부모자식수': \"0\",   \n                            '요금': \"33\",   \n                            '출항지': \"C\",   \n                    }\n                ],\n        },\n    \"GlobalParameters\":  {\n    }\n}",
      "execution_count": 6,
      "outputs": []
    },
    {
      "metadata": {
        "trusted": true
      },
      "cell_type": "code",
      "source": "body = str.encode(json.dumps(data))\n\nurl = 'https://ussouthcentral.services.azureml.net/workspaces/784b2f6d8024416c89a06555aa012479/services/e251db5c90e4452a824448dde5ac663a/execute?api-version=2.0&format=swagger'\napi_key = 'nLIYVU25Jiwmc8rmxNXWmxhlgRyE+JFaT2PAH2Cx6FVcymWoSvjZ0kcIT28Sx4dzu9bfMiGfpmp+Orvdiy01eg==' # Replace this with the API key for the web service\nheaders = {'Content-Type':'application/json', 'Authorization':('Bearer '+ api_key)}\n\nreq = urllib.request.Request(url, body, headers)",
      "execution_count": 7,
      "outputs": []
    },
    {
      "metadata": {
        "trusted": true
      },
      "cell_type": "code",
      "source": "try:\n    response = urllib.request.urlopen(req)\n\n    result = response.read()\n    print(result)\nexcept urllib.error.HTTPError as error:\n    print(\"The request failed with status code: \" + str(error.code))\n\n    # Print the headers - they include the requert ID and the timestamp, which are useful for debugging the failure\n    print(error.info())\n    print(json.loads(error.read().decode(\"utf8\", 'ignore')))",
      "execution_count": 8,
      "outputs": [
        {
          "output_type": "stream",
          "text": "b'{\"Results\":{\"output1\":[{\"Scored Labels\":\"True\"}]}}'\n",
          "name": "stdout"
        }
      ]
    },
    {
      "metadata": {
        "trusted": true
      },
      "cell_type": "code",
      "source": "",
      "execution_count": null,
      "outputs": []
    }
  ],
  "metadata": {
    "kernelspec": {
      "name": "python36",
      "display_name": "Python 3.6",
      "language": "python"
    },
    "language_info": {
      "mimetype": "text/x-python",
      "nbconvert_exporter": "python",
      "name": "python",
      "pygments_lexer": "ipython3",
      "version": "3.6.6",
      "file_extension": ".py",
      "codemirror_mode": {
        "version": 3,
        "name": "ipython"
      }
    }
  },
  "nbformat": 4,
  "nbformat_minor": 1
}